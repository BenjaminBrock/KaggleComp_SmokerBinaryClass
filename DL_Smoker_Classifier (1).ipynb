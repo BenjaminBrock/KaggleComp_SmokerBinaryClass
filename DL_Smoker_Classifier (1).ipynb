{
  "cells": [
    {
      "cell_type": "markdown",
      "metadata": {
        "id": "kYZ8L2-Aji12"
      },
      "source": [
        "# ***Smoker Identification - Through Machine and Deep Learning Techniques***\n",
        "\n",
        "## Authors ~ Benjamin Brock , Ellie Manley\n",
        "All rights reserved\n",
        "\n",
        "## Project Origins:\n",
        "This project was an exploratory analysis of the kaggle competition found here:\n",
        "https://www.kaggle.com/competitions/playground-series-s3e24\n",
        "\n",
        "We used a variety of appraoches to create a viable model, incorporating classic ML & DL models and assessing their efficacy.\n",
        "\n",
        "### Techniques Applied:\n",
        "**` Binary Classification `** , **` Linear Regression `** , **` Multivariate Logistic Regression `** , **` K - Nearest Neighbours`** , **` Random Forest Decision Tree Model `** , **` Feed Forward Neural Network `** , **` Gaussian Naive Beyes Regression `** .\n",
        "\n",
        "<br />\n",
        "<img align=\"centre\" alt=\"Python\" width=\"40px\" style=\"padding-right:10px;\" src=\"https://cdn.jsdelivr.net/gh/devicons/devicon/icons/python/python-plain.svg\" />\n",
        "<img align = \"centre\" alt=\"TF\" width = \"100px\" style=\"padding-right:10px;\" src=\"https://www.vectorlogo.zone/logos/tensorflow/tensorflow-ar21.svg\"/>\n",
        "<img align = \"centre\" alt=\"Pandas\" width = \"100px\" style=\"padding-right:10px;\" src=\"https://pandas.pydata.org/static/img/pandas.svg\"/>\n",
        "<img align = \"centre\" alt=\"SciKit\" width = \"100px\" style=\"padding-right:10px;\" src=\"https://upload.wikimedia.org/wikipedia/commons/thumb/0/05/Scikit_learn_logo_small.svg/390px-Scikit_learn_logo_small.svg.png?20180808062052\"/>\n",
        "\n",
        "<br />\n",
        "  "
      ]
    },
    {
      "cell_type": "markdown",
      "metadata": {
        "id": "HOXD2SCDfKxr"
      },
      "source": [
        "## **Import Libraries**\n",
        "\n"
      ]
    },
    {
      "cell_type": "code",
      "execution_count": null,
      "metadata": {
        "id": "i9wzGQptIXLb"
      },
      "outputs": [],
      "source": [
        "import pandas as pd\n",
        "import numpy as np\n",
        "import tensorflow as tf\n",
        "from keras import Sequential\n",
        "from keras.layers import Dense, Dropout, Input\n",
        "from sklearn.preprocessing import MinMaxScaler\n",
        "from sklearn import metrics, model_selection\n",
        "import matplotlib.pyplot as plt\n",
        "import os"
      ]
    },
    {
      "cell_type": "markdown",
      "metadata": {
        "id": "kS-OFauffXV5"
      },
      "source": [
        "## **Pull data directly from Kaggle using API key**"
      ]
    },
    {
      "cell_type": "code",
      "execution_count": null,
      "metadata": {
        "colab": {
          "base_uri": "https://localhost:8080/"
        },
        "id": "10Fu1ec2GuaO",
        "outputId": "f9446b1a-5e90-4c68-9818-b2ebc0cbbebf"
      },
      "outputs": [
        {
          "output_type": "stream",
          "name": "stdout",
          "text": [
            "Downloading playground-series-s3e24.zip to /content\n",
            "\r  0% 0.00/6.81M [00:00<?, ?B/s]\n",
            "\r100% 6.81M/6.81M [00:00<00:00, 82.0MB/s]\n"
          ]
        }
      ],
      "source": [
        "os.environ['KAGGLE_USERNAME'] = 'benjaminbrock'\n",
        "os.environ['KAGGLE_KEY'] = 'a83338b8247b98c8774bf1464187615a'\n",
        "!kaggle competitions download -c playground-series-s3e24"
      ]
    },
    {
      "cell_type": "markdown",
      "metadata": {
        "id": "E-_ffIbdfop0"
      },
      "source": [
        "### **Ensure directory is correctly established by Unzipping the compressed file(s)**"
      ]
    },
    {
      "cell_type": "code",
      "execution_count": null,
      "metadata": {
        "colab": {
          "base_uri": "https://localhost:8080/"
        },
        "id": "BUVvum_eG4I-",
        "outputId": "ec92cd50-54e3-4433-fbc0-ba4429c61df2"
      },
      "outputs": [
        {
          "output_type": "stream",
          "name": "stdout",
          "text": [
            "Archive:  /content/playground-series-s3e24.zip\n",
            "  inflating: sample_submission.csv   \n",
            "  inflating: test.csv                \n",
            "  inflating: train.csv               \n"
          ]
        }
      ],
      "source": [
        "!unzip /content/playground-series-s3e24.zip"
      ]
    },
    {
      "cell_type": "markdown",
      "metadata": {
        "id": "USkgOS6tf_Eh"
      },
      "source": [
        "## **Read the `CSV` data and store it as a `Pandas Data Frame ` for manipulation.**"
      ]
    },
    {
      "cell_type": "code",
      "execution_count": null,
      "metadata": {
        "id": "M6vvxP_-Jaw4"
      },
      "outputs": [],
      "source": [
        "df = pd.read_csv('train.csv')"
      ]
    },
    {
      "cell_type": "code",
      "execution_count": null,
      "metadata": {
        "colab": {
          "base_uri": "https://localhost:8080/"
        },
        "id": "GK_yhsmGJ2h1",
        "outputId": "56b045f5-e357-41bc-8c9d-7e28ccbb3dd1"
      },
      "outputs": [
        {
          "output_type": "stream",
          "name": "stdout",
          "text": [
            "<bound method NDFrame.head of             id  age  height(cm)  weight(kg)  waist(cm)  eyesight(left)  \\\n",
            "0            0   55         165          60       81.0             0.5   \n",
            "1            1   70         165          65       89.0             0.6   \n",
            "2            2   20         170          75       81.0             0.4   \n",
            "3            3   35         180          95      105.0             1.5   \n",
            "4            4   30         165          60       80.5             1.5   \n",
            "...        ...  ...         ...         ...        ...             ...   \n",
            "159251  159251   40         155          45       69.0             1.5   \n",
            "159252  159252   50         155          75       82.0             1.0   \n",
            "159253  159253   40         160          50       66.0             1.5   \n",
            "159254  159254   50         165          75       92.0             1.2   \n",
            "159255  159255   40         145          45       76.4             1.0   \n",
            "\n",
            "        eyesight(right)  hearing(left)  hearing(right)  systolic  ...  HDL  \\\n",
            "0                   0.6              1               1       135  ...   40   \n",
            "1                   0.7              2               2       146  ...   57   \n",
            "2                   0.5              1               1       118  ...   45   \n",
            "3                   1.2              1               1       131  ...   38   \n",
            "4                   1.0              1               1       121  ...   44   \n",
            "...                 ...            ...             ...       ...  ...  ...   \n",
            "159251              2.0              1               1       127  ...   72   \n",
            "159252              1.0              1               1       120  ...   64   \n",
            "159253              1.0              1               1       114  ...   87   \n",
            "159254              1.0              1               1       121  ...   55   \n",
            "159255              1.2              1               1       125  ...   87   \n",
            "\n",
            "        LDL  hemoglobin  Urine protein  serum creatinine  AST  ALT  Gtp  \\\n",
            "0        75        16.5              1               1.0   22   25   27   \n",
            "1       126        16.2              1               1.1   27   23   37   \n",
            "2        93        17.4              1               0.8   27   31   53   \n",
            "3       102        15.9              1               1.0   20   27   30   \n",
            "4        93        15.4              1               0.8   19   13   17   \n",
            "...     ...         ...            ...               ...  ...  ...  ...   \n",
            "159251  159        14.5              1               0.8   25   26   13   \n",
            "159252  108        14.5              1               0.6   21   20   18   \n",
            "159253   93        10.9              1               0.6   15    9   12   \n",
            "159254   80        14.4              1               1.1   22   17   37   \n",
            "159255   81        14.0              1               0.8   21   16   17   \n",
            "\n",
            "        dental caries  smoking  \n",
            "0                   0        1  \n",
            "1                   1        0  \n",
            "2                   0        1  \n",
            "3                   1        0  \n",
            "4                   0        1  \n",
            "...               ...      ...  \n",
            "159251              0        0  \n",
            "159252              0        0  \n",
            "159253              0        0  \n",
            "159254              0        1  \n",
            "159255              0        0  \n",
            "\n",
            "[159256 rows x 24 columns]>\n"
          ]
        }
      ],
      "source": [
        "# Here we can view the top and bottom 5 rows from the Data Frame, note that within colab the print command isn't needed.\n",
        "print(df.head)"
      ]
    },
    {
      "cell_type": "markdown",
      "metadata": {
        "id": "Z2diuEdDg9bX"
      },
      "source": [
        "## **Seperate the Labels from the data set**"
      ]
    },
    {
      "cell_type": "code",
      "execution_count": null,
      "metadata": {
        "colab": {
          "base_uri": "https://localhost:8080/"
        },
        "id": "xrqr_aFfJ9XM",
        "outputId": "f8b2e727-9375-4b29-9a9f-b21505dc5dca"
      },
      "outputs": [
        {
          "output_type": "stream",
          "name": "stdout",
          "text": [
            "0         1\n",
            "1         0\n",
            "2         1\n",
            "3         0\n",
            "4         1\n",
            "         ..\n",
            "159251    0\n",
            "159252    0\n",
            "159253    0\n",
            "159254    1\n",
            "159255    0\n",
            "Name: smoking, Length: 159256, dtype: int64\n"
          ]
        }
      ],
      "source": [
        "Labels = df.pop('smoking')\n",
        "print (Labels)"
      ]
    },
    {
      "cell_type": "code",
      "execution_count": null,
      "metadata": {
        "colab": {
          "base_uri": "https://localhost:8080/"
        },
        "id": "s1QC7g7_KUQD",
        "outputId": "dcbf76a8-b7af-477d-8b39-d87c10f2ecfe"
      },
      "outputs": [
        {
          "output_type": "stream",
          "name": "stdout",
          "text": [
            "<bound method NDFrame.head of             id  age  height(cm)  weight(kg)  waist(cm)  eyesight(left)  \\\n",
            "0            0   55         165          60       81.0             0.5   \n",
            "1            1   70         165          65       89.0             0.6   \n",
            "2            2   20         170          75       81.0             0.4   \n",
            "3            3   35         180          95      105.0             1.5   \n",
            "4            4   30         165          60       80.5             1.5   \n",
            "...        ...  ...         ...         ...        ...             ...   \n",
            "159251  159251   40         155          45       69.0             1.5   \n",
            "159252  159252   50         155          75       82.0             1.0   \n",
            "159253  159253   40         160          50       66.0             1.5   \n",
            "159254  159254   50         165          75       92.0             1.2   \n",
            "159255  159255   40         145          45       76.4             1.0   \n",
            "\n",
            "        eyesight(right)  hearing(left)  hearing(right)  systolic  ...  \\\n",
            "0                   0.6              1               1       135  ...   \n",
            "1                   0.7              2               2       146  ...   \n",
            "2                   0.5              1               1       118  ...   \n",
            "3                   1.2              1               1       131  ...   \n",
            "4                   1.0              1               1       121  ...   \n",
            "...                 ...            ...             ...       ...  ...   \n",
            "159251              2.0              1               1       127  ...   \n",
            "159252              1.0              1               1       120  ...   \n",
            "159253              1.0              1               1       114  ...   \n",
            "159254              1.0              1               1       121  ...   \n",
            "159255              1.2              1               1       125  ...   \n",
            "\n",
            "        triglyceride  HDL  LDL  hemoglobin  Urine protein  serum creatinine  \\\n",
            "0                300   40   75        16.5              1               1.0   \n",
            "1                 55   57  126        16.2              1               1.1   \n",
            "2                197   45   93        17.4              1               0.8   \n",
            "3                203   38  102        15.9              1               1.0   \n",
            "4                 87   44   93        15.4              1               0.8   \n",
            "...              ...  ...  ...         ...            ...               ...   \n",
            "159251            47   72  159        14.5              1               0.8   \n",
            "159252           202   64  108        14.5              1               0.6   \n",
            "159253            45   87   93        10.9              1               0.6   \n",
            "159254           148   55   80        14.4              1               1.1   \n",
            "159255            87   87   81        14.0              1               0.8   \n",
            "\n",
            "        AST  ALT  Gtp  dental caries  \n",
            "0        22   25   27              0  \n",
            "1        27   23   37              1  \n",
            "2        27   31   53              0  \n",
            "3        20   27   30              1  \n",
            "4        19   13   17              0  \n",
            "...     ...  ...  ...            ...  \n",
            "159251   25   26   13              0  \n",
            "159252   21   20   18              0  \n",
            "159253   15    9   12              0  \n",
            "159254   22   17   37              0  \n",
            "159255   21   16   17              0  \n",
            "\n",
            "[159256 rows x 23 columns]>\n"
          ]
        }
      ],
      "source": [
        "print(df.head)"
      ]
    },
    {
      "cell_type": "markdown",
      "source": [
        "Remove unnecessary labels"
      ],
      "metadata": {
        "id": "JZQEKJWKiad4"
      }
    },
    {
      "cell_type": "code",
      "execution_count": null,
      "metadata": {
        "colab": {
          "base_uri": "https://localhost:8080/"
        },
        "id": "2N-2V3LNl7vv",
        "outputId": "c9b5e6b7-54a1-43ef-fe79-013f9e5b4918"
      },
      "outputs": [
        {
          "output_type": "execute_result",
          "data": {
            "text/plain": [
              "0         1\n",
              "1         1\n",
              "2         1\n",
              "3         1\n",
              "4         1\n",
              "         ..\n",
              "159251    1\n",
              "159252    1\n",
              "159253    1\n",
              "159254    1\n",
              "159255    1\n",
              "Name: Urine protein, Length: 159256, dtype: int64"
            ]
          },
          "metadata": {},
          "execution_count": 12
        }
      ],
      "source": [
        "df.pop('id')\n",
        "df.pop('Urine protein')"
      ]
    },
    {
      "cell_type": "markdown",
      "source": [
        "Scaling outliers back within the accepted range for LDL values."
      ],
      "metadata": {
        "id": "IXwD-HEvinVc"
      }
    },
    {
      "cell_type": "code",
      "execution_count": null,
      "metadata": {
        "id": "JIooza_sjb-I"
      },
      "outputs": [],
      "source": [
        "old_value = []\n",
        "new_value = []\n",
        "\n",
        "for i in df['LDL']:\n",
        "    if i > 500:\n",
        "        old_value.append(i)\n",
        "        new_value.append(i/10)\n",
        "\n",
        "df['LDL'] = df['LDL'].replace(old_value, new_value)"
      ]
    },
    {
      "cell_type": "markdown",
      "source": [
        "Create a normalized data set for use within the models"
      ],
      "metadata": {
        "id": "9fihLiGejRJr"
      }
    },
    {
      "cell_type": "code",
      "execution_count": null,
      "metadata": {
        "id": "2JvieTBdKoez"
      },
      "outputs": [],
      "source": [
        "def normalise(Data):\n",
        "    Norm = MinMaxScaler(feature_range= (0,1))\n",
        "    N_Data = Norm.fit_transform(np.array(Data))\n",
        "    return N_Data"
      ]
    },
    {
      "cell_type": "code",
      "execution_count": null,
      "metadata": {
        "id": "hGpZ-NlZKvoX"
      },
      "outputs": [],
      "source": [
        "NormData = normalise(df)"
      ]
    },
    {
      "cell_type": "code",
      "execution_count": null,
      "metadata": {
        "colab": {
          "base_uri": "https://localhost:8080/"
        },
        "id": "igOjpIR0LC7A",
        "outputId": "dcad196a-8bc5-47df-fea3-de91496a3e26"
      },
      "outputs": [
        {
          "output_type": "stream",
          "name": "stdout",
          "text": [
            "[[0.53846154 0.54545455 0.3        ... 0.00823893 0.02507523 0.        ]\n",
            " [0.76923077 0.54545455 0.35       ... 0.00755235 0.03510532 1.        ]\n",
            " [0.         0.63636364 0.45       ... 0.01029866 0.05115346 0.        ]\n",
            " ...\n",
            " [0.30769231 0.45454545 0.2        ... 0.00274631 0.01003009 0.        ]\n",
            " [0.46153846 0.54545455 0.45       ... 0.00549262 0.03510532 0.        ]\n",
            " [0.30769231 0.18181818 0.15       ... 0.00514933 0.01504514 0.        ]]\n"
          ]
        }
      ],
      "source": [
        "print (NormData)"
      ]
    },
    {
      "cell_type": "markdown",
      "source": [
        "Create an 80:20 training : test split."
      ],
      "metadata": {
        "id": "CQ_2JvoikJ8H"
      }
    },
    {
      "cell_type": "code",
      "execution_count": null,
      "metadata": {
        "id": "F0u74kt8YA4_"
      },
      "outputs": [],
      "source": [
        "from sklearn.model_selection import train_test_split\n",
        "X_Train , X_Test, Y_Train , Y_Test = train_test_split( NormData , Labels, test_size = 0.2, random_state = 42)"
      ]
    },
    {
      "cell_type": "code",
      "execution_count": null,
      "metadata": {
        "colab": {
          "base_uri": "https://localhost:8080/"
        },
        "id": "iDRDQ_-MZ3zf",
        "outputId": "e61aa5ce-6314-4d0d-a0b6-e6d8ccf50a3c"
      },
      "outputs": [
        {
          "output_type": "execute_result",
          "data": {
            "text/plain": [
              "127404"
            ]
          },
          "metadata": {},
          "execution_count": 18
        }
      ],
      "source": [
        "len(X_Train)"
      ]
    },
    {
      "cell_type": "code",
      "execution_count": null,
      "metadata": {
        "colab": {
          "base_uri": "https://localhost:8080/"
        },
        "id": "g1RH48EXaA5b",
        "outputId": "dd757a41-bdac-433f-dc22-66fff287b894"
      },
      "outputs": [
        {
          "output_type": "execute_result",
          "data": {
            "text/plain": [
              "127404"
            ]
          },
          "metadata": {},
          "execution_count": 19
        }
      ],
      "source": [
        "len(Y_Train)"
      ]
    },
    {
      "cell_type": "code",
      "execution_count": null,
      "metadata": {
        "colab": {
          "base_uri": "https://localhost:8080/"
        },
        "id": "UIAoBpLB5bXN",
        "outputId": "3561a415-3a6b-4536-c6c7-1f2b2c3fada6"
      },
      "outputs": [
        {
          "output_type": "execute_result",
          "data": {
            "text/plain": [
              "31852"
            ]
          },
          "metadata": {},
          "execution_count": 20
        }
      ],
      "source": [
        "len(Y_Test)"
      ]
    },
    {
      "cell_type": "markdown",
      "source": [
        "Build the basic feed forward model"
      ],
      "metadata": {
        "id": "8DduPyslkgcy"
      }
    },
    {
      "cell_type": "code",
      "execution_count": null,
      "metadata": {
        "id": "0VFKLgL_ONCn"
      },
      "outputs": [],
      "source": [
        "model = Sequential()\n",
        "model.add(Input(shape = 21))\n",
        "model.add(Dense(64, activation = 'sigmoid'))\n",
        "model.add(Dense(32, activation = 'sigmoid'))\n",
        "model.add(Dense(1, activation = 'sigmoid'))\n",
        "\n",
        "model.compile(optimizer='adam',\n",
        "              loss=tf.keras.losses.BinaryCrossentropy(from_logits=True),\n",
        "              metrics=['accuracy'])"
      ]
    },
    {
      "cell_type": "code",
      "execution_count": null,
      "metadata": {
        "colab": {
          "base_uri": "https://localhost:8080/"
        },
        "id": "gV6DwK1-Q2PK",
        "outputId": "827ee261-d3ca-4958-831f-44629b38395c"
      },
      "outputs": [
        {
          "output_type": "stream",
          "name": "stdout",
          "text": [
            "Epoch 1/30\n"
          ]
        },
        {
          "output_type": "stream",
          "name": "stderr",
          "text": [
            "/usr/local/lib/python3.10/dist-packages/keras/src/backend.py:5818: UserWarning: \"`binary_crossentropy` received `from_logits=True`, but the `output` argument was produced by a Sigmoid activation and thus does not represent logits. Was this intended?\n",
            "  output, from_logits = _get_logits(\n"
          ]
        },
        {
          "output_type": "stream",
          "name": "stdout",
          "text": [
            "3982/3982 [==============================] - 6s 1ms/step - loss: 0.5351 - accuracy: 0.7119\n",
            "Epoch 2/30\n",
            "3982/3982 [==============================] - 4s 1ms/step - loss: 0.4889 - accuracy: 0.7480\n",
            "Epoch 3/30\n",
            "3982/3982 [==============================] - 5s 1ms/step - loss: 0.4828 - accuracy: 0.7516\n",
            "Epoch 4/30\n",
            "3982/3982 [==============================] - 4s 1ms/step - loss: 0.4804 - accuracy: 0.7535\n",
            "Epoch 5/30\n",
            "3982/3982 [==============================] - 5s 1ms/step - loss: 0.4796 - accuracy: 0.7537\n",
            "Epoch 6/30\n",
            "3982/3982 [==============================] - 4s 1ms/step - loss: 0.4791 - accuracy: 0.7541\n",
            "Epoch 7/30\n",
            "3982/3982 [==============================] - 4s 1ms/step - loss: 0.4784 - accuracy: 0.7541\n",
            "Epoch 8/30\n",
            "3982/3982 [==============================] - 5s 1ms/step - loss: 0.4783 - accuracy: 0.7547\n",
            "Epoch 9/30\n",
            "3982/3982 [==============================] - 4s 1ms/step - loss: 0.4780 - accuracy: 0.7548\n",
            "Epoch 10/30\n",
            "3982/3982 [==============================] - 5s 1ms/step - loss: 0.4772 - accuracy: 0.7558\n",
            "Epoch 11/30\n",
            "3982/3982 [==============================] - 4s 1ms/step - loss: 0.4764 - accuracy: 0.7559\n",
            "Epoch 12/30\n",
            "3982/3982 [==============================] - 4s 1ms/step - loss: 0.4759 - accuracy: 0.7561\n",
            "Epoch 13/30\n",
            "3982/3982 [==============================] - 5s 1ms/step - loss: 0.4753 - accuracy: 0.7569\n",
            "Epoch 14/30\n",
            "3982/3982 [==============================] - 4s 1ms/step - loss: 0.4744 - accuracy: 0.7578\n",
            "Epoch 15/30\n",
            "3982/3982 [==============================] - 5s 1ms/step - loss: 0.4738 - accuracy: 0.7586\n",
            "Epoch 16/30\n",
            "3982/3982 [==============================] - 4s 1ms/step - loss: 0.4730 - accuracy: 0.7597\n",
            "Epoch 17/30\n",
            "3982/3982 [==============================] - 4s 1ms/step - loss: 0.4725 - accuracy: 0.7601\n",
            "Epoch 18/30\n",
            "3982/3982 [==============================] - 5s 1ms/step - loss: 0.4721 - accuracy: 0.7608\n",
            "Epoch 19/30\n",
            "3982/3982 [==============================] - 4s 1ms/step - loss: 0.4717 - accuracy: 0.7602\n",
            "Epoch 20/30\n",
            "3982/3982 [==============================] - 4s 1ms/step - loss: 0.4709 - accuracy: 0.7616\n",
            "Epoch 21/30\n",
            "3982/3982 [==============================] - 5s 1ms/step - loss: 0.4706 - accuracy: 0.7625\n",
            "Epoch 22/30\n",
            "3982/3982 [==============================] - 4s 1ms/step - loss: 0.4703 - accuracy: 0.7622\n",
            "Epoch 23/30\n",
            "3982/3982 [==============================] - 5s 1ms/step - loss: 0.4699 - accuracy: 0.7631\n",
            "Epoch 24/30\n",
            "3982/3982 [==============================] - 4s 1ms/step - loss: 0.4695 - accuracy: 0.7638\n",
            "Epoch 25/30\n",
            "3982/3982 [==============================] - 5s 1ms/step - loss: 0.4691 - accuracy: 0.7632\n",
            "Epoch 26/30\n",
            "3982/3982 [==============================] - 5s 1ms/step - loss: 0.4688 - accuracy: 0.7642\n",
            "Epoch 27/30\n",
            "3982/3982 [==============================] - 4s 1ms/step - loss: 0.4685 - accuracy: 0.7641\n",
            "Epoch 28/30\n",
            "3982/3982 [==============================] - 5s 1ms/step - loss: 0.4683 - accuracy: 0.7648\n",
            "Epoch 29/30\n",
            "3982/3982 [==============================] - 4s 1ms/step - loss: 0.4676 - accuracy: 0.7651\n",
            "Epoch 30/30\n",
            "3982/3982 [==============================] - 4s 1ms/step - loss: 0.4671 - accuracy: 0.7647\n"
          ]
        },
        {
          "output_type": "execute_result",
          "data": {
            "text/plain": [
              "<keras.src.callbacks.History at 0x79703c589c00>"
            ]
          },
          "metadata": {},
          "execution_count": 22
        }
      ],
      "source": [
        "model.fit(X_Train,Y_Train, epochs = 30 )"
      ]
    },
    {
      "cell_type": "markdown",
      "source": [
        "Next, we compare the neural network to the support vector classifier, linear regression, logistic regression, K nearest neighbours and the random forest classifier. Whilst this is far more than necessary - this activity served as an exploratory exercise."
      ],
      "metadata": {
        "id": "PwSXsj-6mHRg"
      }
    },
    {
      "cell_type": "code",
      "execution_count": null,
      "metadata": {
        "id": "mxU-Hjk48YWx"
      },
      "outputs": [],
      "source": [
        "from sklearn.linear_model import LinearRegression , LogisticRegression\n",
        "\n",
        "lr = LinearRegression()\n",
        "\n",
        "from sklearn.svm import SVC\n",
        "\n",
        "svc = SVC(kernel='rbf')\n",
        "\n",
        "from sklearn.naive_bayes import GaussianNB\n",
        "\n",
        "gnb = GaussianNB()\n",
        "\n",
        "from sklearn import neighbors\n",
        "\n",
        "knn = neighbors.KNeighborsClassifier(n_neighbors=5)\n"
      ]
    },
    {
      "cell_type": "code",
      "execution_count": null,
      "metadata": {
        "id": "9H2vN17hkaDP",
        "colab": {
          "base_uri": "https://localhost:8080/",
          "height": 605
        },
        "outputId": "d95fc77b-3664-4dd3-c59d-0571378164a1"
      },
      "outputs": [
        {
          "output_type": "stream",
          "name": "stdout",
          "text": [
            "              precision    recall  f1-score   support\n",
            "\n",
            "  non-smoker       0.78      0.76      0.77     17783\n",
            "      smoker       0.70      0.73      0.72     14069\n",
            "\n",
            "    accuracy                           0.75     31852\n",
            "   macro avg       0.74      0.74      0.74     31852\n",
            "weighted avg       0.75      0.75      0.75     31852\n",
            "\n"
          ]
        },
        {
          "output_type": "display_data",
          "data": {
            "text/plain": [
              "<Figure size 640x480 with 2 Axes>"
            ],
            "image/png": "[encoded data removed]"
          },
          "metadata": {}
        }
      ],
      "source": [
        "\n",
        "from sklearn.metrics import classification_report, confusion_matrix, ConfusionMatrixDisplay\n",
        "\n",
        "\n",
        "model = LogisticRegression(solver='liblinear', C=10.0, random_state=0)\n",
        "\n",
        "model.fit(X_Train, Y_Train)\n",
        "y_pred = model.predict(X_Test)\n",
        "\n",
        "model.score(X_Test, Y_Test)\n",
        "conf_mat = confusion_matrix(Y_Test, y_pred)\n",
        "displ = ConfusionMatrixDisplay(confusion_matrix=conf_mat)\n",
        "displ.plot()\n",
        "\n",
        "print(classification_report(Y_Test, y_pred, target_names=['non-smoker', 'smoker']))"
      ]
    },
    {
      "cell_type": "code",
      "execution_count": null,
      "metadata": {
        "id": "ntc8bWbc8ZhJ",
        "colab": {
          "base_uri": "https://localhost:8080/"
        },
        "outputId": "7bb2baf7-6943-4fae-faaf-a3b697abfe58"
      },
      "outputs": [
        {
          "output_type": "execute_result",
          "data": {
            "text/plain": [
              "0.3176904846017532"
            ]
          },
          "metadata": {},
          "execution_count": 27
        }
      ],
      "source": [
        "from sklearn.pipeline import make_pipeline\n",
        "from sklearn.preprocessing import StandardScaler\n",
        "\n",
        "model = make_pipeline(StandardScaler(with_mean=False), LinearRegression())\n",
        "model.fit(X_Train, Y_Train)\n",
        "model.score(X_Test, Y_Test)"
      ]
    },
    {
      "cell_type": "code",
      "execution_count": null,
      "metadata": {
        "colab": {
          "base_uri": "https://localhost:8080/"
        },
        "id": "OtPgUWU5Ywch",
        "outputId": "47722c4c-456d-48d5-d1b2-ee5f8c00c90b"
      },
      "outputs": [
        {
          "output_type": "execute_result",
          "data": {
            "text/plain": [
              "0.7232826824061284"
            ]
          },
          "metadata": {},
          "execution_count": 28
        }
      ],
      "source": [
        "gnb.fit(X_Train, Y_Train)\n",
        "gnb.score(X_Test, Y_Test)"
      ]
    },
    {
      "cell_type": "code",
      "execution_count": null,
      "metadata": {
        "id": "_TNb69ObS6Wh",
        "colab": {
          "base_uri": "https://localhost:8080/"
        },
        "outputId": "afeeee85-cfe9-45d6-bc6f-3639abd8e77d"
      },
      "outputs": [
        {
          "output_type": "execute_result",
          "data": {
            "text/plain": [
              "0.7706266482481476"
            ]
          },
          "metadata": {},
          "execution_count": 29
        }
      ],
      "source": [
        "#Decision Trees:\n",
        "from sklearn.ensemble import RandomForestClassifier\n",
        "Forest = RandomForestClassifier(n_estimators=100, random_state=2)\n",
        "Forest.fit(X_Train, Y_Train)\n",
        "Forest.score(X_Test, Y_Test)\n"
      ]
    },
    {
      "cell_type": "code",
      "execution_count": null,
      "metadata": {
        "colab": {
          "base_uri": "https://localhost:8080/",
          "height": 466
        },
        "id": "sko28Ydy6_r-",
        "outputId": "16a2fb67-01db-4431-bf81-1eee30dbd6d8"
      },
      "outputs": [
        {
          "output_type": "execute_result",
          "data": {
            "text/plain": [
              "<sklearn.metrics._plot.confusion_matrix.ConfusionMatrixDisplay at 0x79703c24bf70>"
            ]
          },
          "metadata": {},
          "execution_count": 30
        },
        {
          "output_type": "display_data",
          "data": {
            "text/plain": [
              "<Figure size 640x480 with 2 Axes>"
            ],
            "image/png": "[encoded data removed]"
          },
          "metadata": {}
        }
      ],
      "source": [
        "Forest_Pred = Forest.predict(X_Test)\n",
        "conf_mat = confusion_matrix(Y_Test,Forest_Pred)\n",
        "displ = ConfusionMatrixDisplay(confusion_matrix=conf_mat)\n",
        "displ.plot()"
      ]
    },
    {
      "cell_type": "code",
      "execution_count": null,
      "metadata": {
        "colab": {
          "base_uri": "https://localhost:8080/"
        },
        "id": "NGXWSQtc8c6y",
        "outputId": "30d58dbf-3376-4af4-e267-4cd7eefb6522"
      },
      "outputs": [
        {
          "output_type": "execute_result",
          "data": {
            "text/plain": [
              "0.7644731884967977"
            ]
          },
          "metadata": {},
          "execution_count": 31
        }
      ],
      "source": [
        "svc.fit(X_Train , Y_Train)\n",
        "svc.score(X_Test, Y_Test)\n"
      ]
    },
    {
      "cell_type": "markdown",
      "source": [],
      "metadata": {
        "id": "hJex7b2z0cmA"
      }
    },
    {
      "cell_type": "code",
      "execution_count": null,
      "metadata": {
        "colab": {
          "base_uri": "https://localhost:8080/"
        },
        "id": "pQ2ZlFmDmu-i",
        "outputId": "742a01ca-5f8b-42b4-e0bb-10db81c960df"
      },
      "outputs": [
        {
          "output_type": "stream",
          "name": "stdout",
          "text": [
            "              precision    recall  f1-score   support\n",
            "\n",
            "  non-smoker       0.84      0.71      0.77     17783\n",
            "      smoker       0.69      0.83      0.76     14069\n",
            "\n",
            "    accuracy                           0.76     31852\n",
            "   macro avg       0.77      0.77      0.76     31852\n",
            "weighted avg       0.78      0.76      0.77     31852\n",
            "\n"
          ]
        }
      ],
      "source": [
        "print(classification_report(Y_Test, svc.predict(X_Test), target_names=['non-smoker', 'smoker']))"
      ]
    },
    {
      "cell_type": "code",
      "execution_count": null,
      "metadata": {
        "id": "AKX5PXP-8dgl",
        "colab": {
          "base_uri": "https://localhost:8080/"
        },
        "outputId": "c5b20000-bf8b-4580-8f56-a9ea75aa0214"
      },
      "outputs": [
        {
          "output_type": "execute_result",
          "data": {
            "text/plain": [
              "0.7237222152455105"
            ]
          },
          "metadata": {},
          "execution_count": 33
        }
      ],
      "source": [
        "knn.fit(X_Train , Y_Train)\n",
        "knn.score(X_Test, Y_Test)\n"
      ]
    },
    {
      "cell_type": "markdown",
      "source": [
        "Now we want to assess the predictions made by the neural network model."
      ],
      "metadata": {
        "id": "U_JnNjSx8iiy"
      }
    },
    {
      "cell_type": "code",
      "execution_count": null,
      "metadata": {
        "id": "1QqoWggvq0G9"
      },
      "outputs": [],
      "source": [
        "Predictions  = np.array(model.predict(X_Test))\n",
        "\n"
      ]
    },
    {
      "cell_type": "code",
      "execution_count": null,
      "metadata": {
        "id": "ZY0Qdp6IkcSZ"
      },
      "outputs": [],
      "source": [
        "predicted = tf.squeeze(Predictions)\n",
        "predicted = np.array([1 if x >= 0.5 else 0 for x in predicted])"
      ]
    },
    {
      "cell_type": "code",
      "execution_count": null,
      "metadata": {
        "id": "uCooBe3Fj34Y",
        "colab": {
          "base_uri": "https://localhost:8080/",
          "height": 466
        },
        "outputId": "365e2ae8-c12c-421e-bc4f-6fe167c9e7ec"
      },
      "outputs": [
        {
          "output_type": "execute_result",
          "data": {
            "text/plain": [
              "<sklearn.metrics._plot.confusion_matrix.ConfusionMatrixDisplay at 0x79703c42bee0>"
            ]
          },
          "metadata": {},
          "execution_count": 36
        },
        {
          "output_type": "display_data",
          "data": {
            "text/plain": [
              "<Figure size 640x480 with 2 Axes>"
            ],
            "image/png": "[encoded data removed]"
          },
          "metadata": {}
        }
      ],
      "source": [
        "conf_mat = confusion_matrix(Y_Test, predicted)\n",
        "displ = ConfusionMatrixDisplay(confusion_matrix=conf_mat)\n",
        "displ.plot()"
      ]
    },
    {
      "cell_type": "code",
      "execution_count": null,
      "metadata": {
        "id": "945CrQ54uQTI",
        "colab": {
          "base_uri": "https://localhost:8080/",
          "height": 430
        },
        "outputId": "ad838a5a-37d6-45f1-eb35-d5821a13e462"
      },
      "outputs": [
        {
          "output_type": "display_data",
          "data": {
            "text/plain": [
              "<Figure size 640x480 with 1 Axes>"
            ],
            "image/png": "[encoded data removed]"
          },
          "metadata": {}
        }
      ],
      "source": [
        "import matplotlib.pyplot as plt\n",
        "\n",
        "plt.plot(predicted,'ro')\n",
        "plt.ylabel('Predictions')\n",
        "plt.show()"
      ]
    },
    {
      "cell_type": "code",
      "execution_count": null,
      "metadata": {
        "id": "0k7mFMogriQK"
      },
      "outputs": [],
      "source": [
        "svc_p = svc.predict(X_Test)"
      ]
    },
    {
      "cell_type": "code",
      "execution_count": null,
      "metadata": {
        "id": "u_GJUKac2esv",
        "colab": {
          "base_uri": "https://localhost:8080/",
          "height": 466
        },
        "outputId": "b45adb4d-d826-47f6-e209-44d2d93d70db"
      },
      "outputs": [
        {
          "output_type": "execute_result",
          "data": {
            "text/plain": [
              "<sklearn.metrics._plot.confusion_matrix.ConfusionMatrixDisplay at 0x79703c326e60>"
            ]
          },
          "metadata": {},
          "execution_count": 39
        },
        {
          "output_type": "display_data",
          "data": {
            "text/plain": [
              "<Figure size 640x480 with 2 Axes>"
            ],
            "image/png": "[encoded data removed]"
          },
          "metadata": {}
        }
      ],
      "source": [
        "conf_mat = confusion_matrix(Y_Test, svc_p)\n",
        "displ = ConfusionMatrixDisplay(confusion_matrix=conf_mat)\n",
        "displ.plot()"
      ]
    },
    {
      "cell_type": "code",
      "execution_count": null,
      "metadata": {
        "id": "-luENDKY2wc2"
      },
      "outputs": [],
      "source": []
    },
    {
      "cell_type": "code",
      "execution_count": null,
      "metadata": {
        "id": "p-siFIgh1W3s"
      },
      "outputs": [],
      "source": []
    },
    {
      "cell_type": "code",
      "execution_count": null,
      "metadata": {
        "id": "YnteZiDHrmfA"
      },
      "outputs": [],
      "source": []
    },
    {
      "cell_type": "code",
      "execution_count": null,
      "metadata": {
        "id": "kBxHfPb_4htj"
      },
      "outputs": [],
      "source": []
    },
    {
      "cell_type": "code",
      "execution_count": null,
      "metadata": {
        "id": "qnTtFO1B4qEa"
      },
      "outputs": [],
      "source": []
    }
  ],
  "metadata": {
    "colab": {
      "provenance": []
    },
    "kernelspec": {
      "display_name": "Python 3",
      "name": "python3"
    },
    "language_info": {
      "name": "python"
    }
  },
  "nbformat": 4,
  "nbformat_minor": 0
}